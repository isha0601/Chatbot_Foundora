{
 "cells": [
  {
   "cell_type": "code",
   "execution_count": 30,
   "id": "5117e702",
   "metadata": {},
   "outputs": [],
   "source": [
    "##tools\n",
    "from langchain_community.tools import ArxivQueryRun, WikipediaQueryRun\n",
    "from langchain_community.utilities import WikipediaAPIWrapper, ArxivAPIWrapper\n"
   ]
  },
  {
   "cell_type": "code",
   "execution_count": 31,
   "id": "ce583d05",
   "metadata": {},
   "outputs": [
    {
     "name": "stdout",
     "output_type": "stream",
     "text": [
      "arxiv\n"
     ]
    }
   ],
   "source": [
    "api_wrapper_arxiv=ArxivAPIWrapper(top_k_results=2,doc_content_chars_max=500)\n",
    "arxiv=ArxivQueryRun(api_wrapper=api_wrapper_arxiv,description=\"Query arxiv papers\")\n",
    "print(arxiv.name)"
   ]
  },
  {
   "cell_type": "code",
   "execution_count": 32,
   "id": "a47f0fab",
   "metadata": {},
   "outputs": [
    {
     "data": {
      "text/plain": [
       "'Published: 2023-05-23\\nTitle: Fast and energy-efficient non-volatile III-V-on-silicon photonic phase shifter based on memristors\\nAuthors: Zhuoran Fang, Bassem Tossoun, Antoine Descos, Di Liang, Xue Huang, Geza Kurczveil, Arka Majumdar, Raymond G. Beausoleil\\nSummary: Silicon photonics has evolved from lab research to commercial products in the\\npast decade as it plays an increasingly crucial role in data communication for\\nnext-generation data centers and high performance computing1. Recently,\\nprogr'"
      ]
     },
     "execution_count": 32,
     "metadata": {},
     "output_type": "execute_result"
    }
   ],
   "source": [
    "arxiv.invoke(\"what is the latest research on quantum computing?\")"
   ]
  },
  {
   "cell_type": "code",
   "execution_count": 33,
   "id": "cd53700a",
   "metadata": {},
   "outputs": [
    {
     "name": "stdout",
     "output_type": "stream",
     "text": [
      "wikipedia\n"
     ]
    }
   ],
   "source": [
    "api_wrapper_wiki=WikipediaAPIWrapper(top_k_results=2,doc_content_chars_max=500)\n",
    "wiki=WikipediaQueryRun(api_wrapper=api_wrapper_wiki)\n",
    "print(wiki.name)"
   ]
  },
  {
   "cell_type": "code",
   "execution_count": 34,
   "id": "d243b34c",
   "metadata": {},
   "outputs": [],
   "source": [
    "from dotenv import load_dotenv\n",
    "load_dotenv()\n",
    "\n",
    "import os \n",
    "os.environ[\"TAVILY_API_KEY\"]=os.getenv(\"TAVILY_API_KEY\")\n",
    "os.environ[\"GROQ_API_KEY\"]=os.getenv(\"GROQ_API_KEY\")"
   ]
  },
  {
   "cell_type": "code",
   "execution_count": 35,
   "id": "88573e8a",
   "metadata": {},
   "outputs": [],
   "source": [
    "## Tavily Seach Tool\n",
    "from langchain_community.tools.tavily_search import TavilySearchResults\n",
    "\n",
    "tavily=TavilySearchResults()"
   ]
  },
  {
   "cell_type": "code",
   "execution_count": 36,
   "id": "d4964692",
   "metadata": {},
   "outputs": [
    {
     "data": {
      "text/plain": [
       "[{'title': 'Artificial Intelligence News -- ScienceDaily',\n",
       "  'url': 'https://www.sciencedaily.com/news/computers_math/artificial_intelligence/',\n",
       "  'content': 'Robot See, Robot Do: System Learns After Watching How-to Videos · Brain-Inspired AI Breakthrough: Making Computers See More Like Humans · AI Tool Grounded in',\n",
       "  'score': 0.97915},\n",
       " {'title': 'Google AI announcements from July - The Keyword',\n",
       "  'url': 'https://blog.google/technology/ai/google-ai-updates-july-2025/',\n",
       "  'content': \"Here are Google's latest AI updates from July 2025. ... To keep you posted on our progress, we're doing a regular roundup of Google's most recent AI news.\",\n",
       "  'score': 0.97899},\n",
       " {'title': 'AI News & Artificial Intelligence | TechCrunch',\n",
       "  'url': 'https://techcrunch.com/category/artificial-intelligence/',\n",
       "  'content': 'News coverage on artificial intelligence and machine learning tech, the companies building them, and the ethical issues AI raises today.',\n",
       "  'score': 0.97473},\n",
       " {'title': 'Artificial intelligence | MIT News | Massachusetts Institute of ...',\n",
       "  'url': 'https://news.mit.edu/topic/artificial-intelligence2',\n",
       "  'content': 'New algorithms enable efficient machine learning with symmetric data. This new approach could lead to enhanced AI models for drug and materials discovery.',\n",
       "  'score': 0.97443},\n",
       " {'title': 'The 2025 AI Index Report | Stanford HAI',\n",
       "  'url': 'https://hai.stanford.edu/ai-index/2025-ai-index-report',\n",
       "  'content': '1. AI performance on demanding benchmarks continues to improve. In 2023, researchers introduced new benchmarks—MMMU, GPQA, and SWE-bench—to test the limits of',\n",
       "  'score': 0.97106}]"
      ]
     },
     "execution_count": 36,
     "metadata": {},
     "output_type": "execute_result"
    }
   ],
   "source": [
    "tavily.invoke(\"Provide me the recent AI news\")"
   ]
  },
  {
   "cell_type": "code",
   "execution_count": 37,
   "id": "2d35fce9",
   "metadata": {},
   "outputs": [],
   "source": [
    "## Combine all these tools in the list \n",
    "\n",
    "tools=[arxiv,wiki,tavily]\n"
   ]
  },
  {
   "cell_type": "code",
   "execution_count": 38,
   "id": "8c9ed0a0",
   "metadata": {},
   "outputs": [],
   "source": [
    "## Initialize the LLM model\n",
    "\n",
    "from langchain_groq import ChatGroq\n",
    "\n",
    "llm=ChatGroq(model=\"qwen/qwen3-32b\")"
   ]
  },
  {
   "cell_type": "code",
   "execution_count": 39,
   "id": "55072cb2",
   "metadata": {},
   "outputs": [
    {
     "data": {
      "text/plain": [
       "AIMessage(content='<think>\\nOkay, the user asked \"What is AI,\" and I need to address this. First, AI stands for Artificial Intelligence, which refers to machines or software simulating human intelligence to perform tasks like reasoning, learning, problem-solving, perception, and language understanding. The key here is that AI can be categorized into two main types: narrow AI, which focuses on specific tasks like voice assistants or recommendation systems, and general AI, which is still in the research phase and aims for human-like comprehensive intelligence.\\n\\nNext, I should explain the core technologies of AI. Machine learning is crucial because it enables systems to improve performance through data learning. Deep learning, a subset of machine learning, uses neural networks to process large datasets, such as image or speech recognition. Natural language processing (NLP) helps machines understand and generate human language. Computer vision allows machines to interpret visual information, and robotics combines physical actions with AI decision-making.\\n\\nApplications are important to mention since they show AI\\'s impact. Common uses include virtual assistants like Siri and Alexa, recommendation systems on platforms like YouTube and Netflix, autonomous vehicles from companies like Tesla, medical diagnostics that analyze medical images, and fraud detection in finance.\\n\\nChallenges and ethical issues should be addressed too. Data privacy is a concern as AI systems often require vast amounts of personal data. Algorithmic bias can lead to unfair outcomes if the training data is biased. Job displacement is another issue as automation may replace certain jobs. Additionally, there\\'s the safety and control of AI as it becomes more advanced, raising questions about ensuring it aligns with human values.\\n\\nI need to structure this clearly: start with a definition, break down types, list core technologies, provide applications, and discuss challenges. Keep the language simple and avoid jargon so it\\'s accessible. The user might be a student or someone curious about AI\\'s basics, so clarity is key. Also, mention the difference between current narrow AI and future general AI to set realistic expectations. Make sure to highlight both the benefits and the concerns to give a balanced view. Avoid technical terms without explanation, and maybe include examples for each point to illustrate the concepts. Finally, wrap it up with a summary that emphasizes AI\\'s transformative potential and the importance of responsible development.\\n</think>\\n\\n**Artificial Intelligence (AI)** is a field of computer science focused on creating systems that can perform tasks typically requiring human intelligence. These tasks include learning, reasoning, problem-solving, perception, language understanding, and decision-making. AI systems are designed to simulate human cognitive abilities, though they operate through algorithms and data rather than biological processes.\\n\\n### Key Concepts:\\n1. **Types of AI**:\\n   - **Narrow AI (Weak AI)**: Specialized in specific tasks (e.g., voice assistants like Siri, recommendation systems on Netflix, or chess-playing programs). Most current AI applications fall into this category.\\n   - **General AI (Strong AI)**: A theoretical form of AI that possesses human-like intelligence across a wide range of tasks. It does not yet exist and remains a goal for future research.\\n\\n2. **Core Technologies**:\\n   - **Machine Learning (ML)**: Systems learn patterns from data without explicit programming. Examples include spam filters and recommendation engines.\\n   - **Deep Learning**: A subset of ML using neural networks with multiple layers to analyze complex data (e.g., image recognition, speech synthesis).\\n   - **Natural Language Processing (NLP)**: Enables machines to understand and generate human language (e.g., chatbots, translation tools).\\n   - **Computer Vision**: Allows machines to interpret and act on visual data (e.g., facial recognition, autonomous vehicles).\\n   - **Robotics**: Combines AI with physical systems for tasks like manufacturing or surgery.\\n\\n3. **Applications**:\\n   - **Virtual Assistants**: Siri, Alexa, Google Assistant.\\n   - **Healthcare**: Diagnosing diseases from medical scans (e.g., cancer detection).\\n   - **Finance**: Fraud detection, algorithmic trading.\\n   - **Transportation**: Self-driving cars (Tesla, Waymo).\\n   - **Entertainment**: Content recommendation (Netflix, Spotify), game AI (e.g., AlphaStar in *StarCraft*).\\n\\n4. **Challenges and Ethical Considerations**:\\n   - **Bias**: AI can inherit biases from training data, leading to unfair outcomes (e.g., discriminatory hiring tools).\\n   - **Privacy**: Use of personal data raises concerns about surveillance and misuse.\\n   - **Job Displacement**: Automation may replace certain jobs, requiring workforce retraining.\\n   - **Safety**: Ensuring AI systems act ethically and align with human values (e.g., autonomous weapons).\\n\\n### Summary:\\nAI is transforming industries by automating tasks, improving efficiency, and enabling new capabilities. While current systems excel at narrow tasks, the pursuit of general AI continues to raise both excitement and caution. Ethical development, transparency, and regulation are critical to harnessing AI\\'s potential responsibly.', additional_kwargs={}, response_metadata={'token_usage': {'completion_tokens': 999, 'prompt_tokens': 11, 'total_tokens': 1010, 'completion_time': 3.575526994, 'prompt_time': 0.006839774, 'queue_time': 0.060325886, 'total_time': 3.582366768}, 'model_name': 'qwen/qwen3-32b', 'system_fingerprint': 'fp_5cf921caa2', 'service_tier': 'on_demand', 'finish_reason': 'stop', 'logprobs': None}, id='run--2bc27df2-1d69-4a31-8284-7786c3c11b85-0', usage_metadata={'input_tokens': 11, 'output_tokens': 999, 'total_tokens': 1010})"
      ]
     },
     "execution_count": 39,
     "metadata": {},
     "output_type": "execute_result"
    }
   ],
   "source": [
    "llm.invoke(\"What is AI\")"
   ]
  },
  {
   "cell_type": "code",
   "execution_count": 40,
   "id": "812a635f",
   "metadata": {},
   "outputs": [],
   "source": [
    "llm_with_tools=llm.bind_tools(tools=tools)"
   ]
  },
  {
   "cell_type": "code",
   "execution_count": 41,
   "id": "84fe555d",
   "metadata": {},
   "outputs": [
    {
     "data": {
      "text/plain": [
       "AIMessage(content='', additional_kwargs={'reasoning_content': 'Okay, the user is asking for recent news on AI. I need to figure out which tool to use here. Let me look at the available tools. There\\'s arxiv, wikipedia, and tavily_search_results_json. \\n\\nArxiv is for academic papers, so maybe not the best choice for general news. Wikipedia provides general information but might not have the latest updates. The user mentioned \"recent news,\" which suggests they want the latest updates from reliable sources. \\n\\nTavily_search_results_json is described as a search engine optimized for comprehensive, accurate, and trusted results, especially for current events. That sounds like the right tool here. I should use that to get the most up-to-date news on AI.\\n\\nSo, I\\'ll call the tavily_search_results_json function with the query \"recent news on AI\" to fetch the latest information.\\n', 'tool_calls': [{'id': '8rv8zydav', 'function': {'arguments': '{\"query\":\"recent news on AI\"}', 'name': 'tavily_search_results_json'}, 'type': 'function'}]}, response_metadata={'token_usage': {'completion_tokens': 202, 'prompt_tokens': 354, 'total_tokens': 556, 'completion_time': 0.470927089, 'prompt_time': 0.027783929, 'queue_time': 0.047335771, 'total_time': 0.498711018}, 'model_name': 'qwen/qwen3-32b', 'system_fingerprint': 'fp_5cf921caa2', 'service_tier': 'on_demand', 'finish_reason': 'tool_calls', 'logprobs': None}, id='run--b09128ae-04e2-4678-8e22-4a5e3429d781-0', tool_calls=[{'name': 'tavily_search_results_json', 'args': {'query': 'recent news on AI'}, 'id': '8rv8zydav', 'type': 'tool_call'}], usage_metadata={'input_tokens': 354, 'output_tokens': 202, 'total_tokens': 556})"
      ]
     },
     "execution_count": 41,
     "metadata": {},
     "output_type": "execute_result"
    }
   ],
   "source": [
    "## Execute this call \n",
    "llm_with_tools.invoke(\"What is the recent news on AI?\")"
   ]
  },
  {
   "cell_type": "code",
   "execution_count": 42,
   "id": "ed4a61d7",
   "metadata": {},
   "outputs": [
    {
     "data": {
      "text/plain": [
       "AIMessage(content='', additional_kwargs={'reasoning_content': 'Okay, the user is asking about the latest research on Quantum Computing. I need to figure out which tool to use here. The available tools are arxiv, wikipedia, and tavily_search.\\n\\nArxiv is great for academic papers, which would give the latest research. Wikipedia might be too general and might not cover very recent studies. Tavily is for current events, but quantum computing research might be more academic. So I should use arxiv to get the latest papers. The query parameter should be \"Quantum Computing\" to search for recent publications. Let me check if the parameters are correct. The function requires a query string. Yeah, that\\'s set. I\\'ll call arxiv with that query.\\n', 'tool_calls': [{'id': 'gam004pxy', 'function': {'arguments': '{\"query\":\"Quantum Computing\"}', 'name': 'arxiv'}, 'type': 'function'}]}, response_metadata={'token_usage': {'completion_tokens': 169, 'prompt_tokens': 355, 'total_tokens': 524, 'completion_time': 0.379592066, 'prompt_time': 0.147273051, 'queue_time': 26.899927717, 'total_time': 0.526865117}, 'model_name': 'qwen/qwen3-32b', 'system_fingerprint': 'fp_5cf921caa2', 'service_tier': 'on_demand', 'finish_reason': 'tool_calls', 'logprobs': None}, id='run--f0289b38-6e2e-424c-a27d-2cec3ef6c8f7-0', tool_calls=[{'name': 'arxiv', 'args': {'query': 'Quantum Computing'}, 'id': 'gam004pxy', 'type': 'tool_call'}], usage_metadata={'input_tokens': 355, 'output_tokens': 169, 'total_tokens': 524})"
      ]
     },
     "execution_count": 42,
     "metadata": {},
     "output_type": "execute_result"
    }
   ],
   "source": [
    "## Execute this call \n",
    "llm_with_tools.invoke(\"What is the latest research on Quantum Computing?\")"
   ]
  },
  {
   "cell_type": "code",
   "execution_count": 43,
   "id": "de26a1e2",
   "metadata": {},
   "outputs": [
    {
     "data": {
      "text/plain": [
       "AIMessage(content='', additional_kwargs={'reasoning_content': 'Okay, the user is asking \"What is machine learning?\" I need to provide a clear and concise answer. Let me think about the best way to approach this.\\n\\nFirst, I should check if I have any functions that can help retrieve information. Looking at the tools provided, there\\'s Wikipedia, arXiv, and Tavily Search. Since machine learning is a general topic, Wikipedia would be a good source for a foundational definition. The arXiv is more for research papers, which might be too technical here. Tavily is for current events, but machine learning is a well-established field, so Wikipedia is probably best.\\n\\nI should call the Wikipedia function with the query \"machine learning\". That should give the user a reliable overview. Let me make sure the parameters are correct. The function requires a \"query\" parameter, which I\\'ll set to \"machine learning\". \\n\\nOnce I get the Wikipedia result, I can summarize the key points: machine learning is a subset of artificial intelligence that enables systems to learn from data, improve with experience, and make decisions or predictions. I\\'ll mention types like supervised, unsupervised, and reinforcement learning, and applications like image recognition, natural language processing, etc. \\n\\nI need to present this information in a way that\\'s easy to understand without too much jargon. Also, make sure to cite Wikipedia as the source. Let me check if there\\'s any additional info needed, but the user\\'s question seems straightforward. Alright, let\\'s proceed with the Wikipedia function call.\\n', 'tool_calls': [{'id': 'ka2ma0gxs', 'function': {'arguments': '{\"query\":\"machine learning\"}', 'name': 'wikipedia'}, 'type': 'function'}]}, response_metadata={'token_usage': {'completion_tokens': 332, 'prompt_tokens': 351, 'total_tokens': 683, 'completion_time': 0.886194244, 'prompt_time': 0.030954247, 'queue_time': 0.045832293, 'total_time': 0.917148491}, 'model_name': 'qwen/qwen3-32b', 'system_fingerprint': 'fp_5cf921caa2', 'service_tier': 'on_demand', 'finish_reason': 'tool_calls', 'logprobs': None}, id='run--9aea3aeb-695f-47ab-81c4-d1bcf051fa80-0', tool_calls=[{'name': 'wikipedia', 'args': {'query': 'machine learning'}, 'id': 'ka2ma0gxs', 'type': 'tool_call'}], usage_metadata={'input_tokens': 351, 'output_tokens': 332, 'total_tokens': 683})"
      ]
     },
     "execution_count": 43,
     "metadata": {},
     "output_type": "execute_result"
    }
   ],
   "source": [
    "## Execute this call \n",
    "llm_with_tools.invoke(\"What is machine learning?\")"
   ]
  },
  {
   "cell_type": "code",
   "execution_count": 44,
   "id": "d99c4e93",
   "metadata": {},
   "outputs": [],
   "source": [
    "## Workflow "
   ]
  },
  {
   "cell_type": "code",
   "execution_count": 45,
   "id": "91fded3d",
   "metadata": {},
   "outputs": [],
   "source": [
    "## State Schema\n",
    "from typing_extensions import TypedDict\n",
    "from langchain_core.messages import AnyMessage   ## human msg or ai msg\n",
    "from typing import Annotated  ## labelling\n",
    "from langgraph.graph.message import add_messages ## reducers in langgraph\n"
   ]
  },
  {
   "cell_type": "code",
   "execution_count": 46,
   "id": "51995e11",
   "metadata": {},
   "outputs": [],
   "source": [
    "class State(TypedDict):\n",
    "  messages:Annotated[list[AnyMessage],add_messages]\n",
    "  "
   ]
  },
  {
   "cell_type": "code",
   "execution_count": 47,
   "id": "c3b363fe",
   "metadata": {},
   "outputs": [],
   "source": [
    "## Entire Chatbot with langgraph\n",
    "from IPython.display import Image, display\n",
    "from langgraph.graph import StateGraph, START, END\n",
    "from langgraph.prebuilt import ToolNode\n",
    "from langgraph.prebuilt import tools_condition\n"
   ]
  },
  {
   "cell_type": "code",
   "execution_count": 53,
   "id": "31a2a312",
   "metadata": {},
   "outputs": [
    {
     "data": {
      "image/png": "[encoded data removed]",
      "text/plain": [
       "<IPython.core.display.Image object>"
      ]
     },
     "metadata": {},
     "output_type": "display_data"
    }
   ],
   "source": [
    "## node definition\n",
    "def tool_calling_llm(state:State):\n",
    "  return {\"messages\":[llm_with_tools.invoke(state[\"messages\"])]}\n",
    "\n",
    "## Build the graph\n",
    "builder=StateGraph(State)\n",
    "builder.add_node(\"tool_calling_llm\",tool_calling_llm)\n",
    "builder.add_node(\"tools\",ToolNode(tools))\n",
    "\n",
    "\n",
    "## edges \n",
    "builder.add_edge(START,\"tool_calling_llm\")\n",
    "builder.add_conditional_edges(\"tool_calling_llm\",\n",
    "                 # if the latest message (result) from assistant is a tool call-> tools_condition routes to tools\n",
    "                 # if the latest message (result) from assistant is not a tool call-> tools_condition routes to END \n",
    "                 tools_condition,\n",
    "                 )\n",
    "builder.add_edge(\"tools\",END)\n",
    "\n",
    "graph=builder.compile()\n",
    "\n",
    "#view \n",
    "display(Image(graph.get_graph().draw_mermaid_png()))\n"
   ]
  },
  {
   "cell_type": "code",
   "execution_count": 55,
   "id": "6013a1b5",
   "metadata": {},
   "outputs": [
    {
     "name": "stdout",
     "output_type": "stream",
     "text": [
      "================================\u001b[1m Human Message \u001b[0m=================================\n",
      "\n",
      "1706.03762\n",
      "==================================\u001b[1m Ai Message \u001b[0m==================================\n",
      "Tool Calls:\n",
      "  arxiv (3egjzy0js)\n",
      " Call ID: 3egjzy0js\n",
      "  Args:\n",
      "    query: 1706.03762\n",
      "=================================\u001b[1m Tool Message \u001b[0m=================================\n",
      "Name: arxiv\n",
      "\n",
      "Published: 2023-08-02\n",
      "Title: Attention Is All You Need\n",
      "Authors: Ashish Vaswani, Noam Shazeer, Niki Parmar, Jakob Uszkoreit, Llion Jones, Aidan N. Gomez, Lukasz Kaiser, Illia Polosukhin\n",
      "Summary: The dominant sequence transduction models are based on complex recurrent or\n",
      "convolutional neural networks in an encoder-decoder configuration. The best\n",
      "performing models also connect the encoder and decoder through an attention\n",
      "mechanism. We propose a new simple network architecture, the Transformer, base\n"
     ]
    }
   ],
   "source": [
    "messages=graph.invoke({\"messages\":\"1706.03762\"}) # research paper no.\n",
    "for m in messages[\"messages\"]:\n",
    "  m.pretty_print()"
   ]
  },
  {
   "cell_type": "code",
   "execution_count": 56,
   "id": "9c4bf69d",
   "metadata": {},
   "outputs": [
    {
     "name": "stdout",
     "output_type": "stream",
     "text": [
      "================================\u001b[1m Human Message \u001b[0m=================================\n",
      "\n",
      "Hi My name is Isha\n",
      "==================================\u001b[1m Ai Message \u001b[0m==================================\n",
      "\n",
      "Hello, Isha! How can I assist you today?\n"
     ]
    }
   ],
   "source": [
    "messages=graph.invoke({\"messages\":\"Hi My name is Isha\"}) # research paper no.\n",
    "for m in messages[\"messages\"]:\n",
    "  m.pretty_print()"
   ]
  },
  {
   "cell_type": "code",
   "execution_count": null,
   "id": "8c60dabc",
   "metadata": {},
   "outputs": [],
   "source": []
  },
  {
   "cell_type": "code",
   "execution_count": 57,
   "id": "68d43ba3",
   "metadata": {},
   "outputs": [
    {
     "data": {
      "image/png": "[encoded data removed]",
      "text/plain": [
       "<IPython.core.display.Image object>"
      ]
     },
     "metadata": {},
     "output_type": "display_data"
    }
   ],
   "source": [
    "## node definition\n",
    "def tool_calling_llm(state:State):\n",
    "  return {\"messages\":[llm_with_tools.invoke(state[\"messages\"])]}\n",
    "\n",
    "## Build the graph\n",
    "builder=StateGraph(State)\n",
    "builder.add_node(\"tool_calling_llm\",tool_calling_llm)\n",
    "builder.add_node(\"tools\",ToolNode(tools))\n",
    "\n",
    "\n",
    "## edges \n",
    "builder.add_edge(START,\"tool_calling_llm\")\n",
    "builder.add_conditional_edges(\"tool_calling_llm\",\n",
    "                 # if the latest message (result) from assistant is a tool call-> tools_condition routes to tools\n",
    "                 # if the latest message (result) from assistant is not a tool call-> tools_condition routes to END \n",
    "                 tools_condition,\n",
    "                 )\n",
    "builder.add_edge(\"tools\",\"tool_calling_llm\")\n",
    "\n",
    "graph=builder.compile()\n",
    "\n",
    "#view \n",
    "display(Image(graph.get_graph().draw_mermaid_png()))\n"
   ]
  },
  {
   "cell_type": "code",
   "execution_count": 61,
   "id": "b3e92afd",
   "metadata": {},
   "outputs": [
    {
     "name": "stdout",
     "output_type": "stream",
     "text": [
      "================================\u001b[1m Human Message \u001b[0m=================================\n",
      "\n",
      "What is the recent AI news and please tell me the recent research paper on Quantum Computing\n",
      "==================================\u001b[1m Ai Message \u001b[0m==================================\n",
      "Tool Calls:\n",
      "  tavily_search_results_json (w9evbv8qe)\n",
      " Call ID: w9evbv8qe\n",
      "  Args:\n",
      "    query: recent AI news 2023\n",
      "  arxiv (v2kzthjjp)\n",
      " Call ID: v2kzthjjp\n",
      "  Args:\n",
      "    query: Quantum Computing\n",
      "=================================\u001b[1m Tool Message \u001b[0m=================================\n",
      "Name: tavily_search_results_json\n",
      "\n",
      "[{\"title\": \"Spectrum's Top AI Stories of 2023\", \"url\": \"https://spectrum.ieee.org/ai-news-2023\", \"content\": \"All through the spring of 2023, important and credible people freaked out about the possible negative consequences—ranging from somewhat troubling to existentially bad—of ever-improving AI. First came an open letter calling for a pause on the development of advanced models, then a statement about existential risk, the first international summit on AI safety, and landmark regulations in the form of a U.S. executive order and the E.U. AI Act. [...] 2023 may well go down in history as one of the most wild and dramatic years in the history of artificial intelligence. People were still struggling to understand the power of OpenAI’s ChatGPT, which had been introduced in late 2022, when the company released its newest large language model, GPT-4, in March 2023 (LLMs are essentially the brains behind consumer-facing applications). [...] It’s a list within a list! Every year, Spectrum editors unpack the massive AI Index issued by the Stanford Institute for Human-Centered Artificial Intelligence, distilling the report down into a handful of graphs that speak to the most important trends. In 2023, highlights included the costs and energy requirements of training large models, and industry’s dominance over academia when it comes to recruiting Ph.D.s and building models.\\n\\n5. The Creepy New Digital Afterlife Industry:\", \"score\": 0.8652358}, {\"title\": \"11 New Technologies in AI: All Trends of 2023-2024 - devabit\", \"url\": \"https://devabit.com/blog/top-11-new-technologies-in-ai-exploring-the-latest-trends/\", \"content\": \"GPT-3.5 and GPT-4 are just the beginning. The pace of AI model development suggests that even more capable language models are on the horizon, with implications for industries ranging from content creation to virtual assistants.\\n\\nOn November 6, 2023, CEO of OpenAI Sam Altman introduced a completely new version of Chat GPT that includes GPTs, Chat GPT Store, GPT-4 Turbo, and other new technologies in AI that we are going to describe in this article. [...] A recent LinkedIn US Executive Confidence Index Survey from June 2023 reflects an optimistic outlook: 47% of executives believe generative AI will boost productivity; 44% plan to augment their newest AI technology utilization in the coming year; and 40% view AI as a key to unlocking growth and revenue. Microsoft's 2023 Work Trend Index further bolsters this sentiment, revealing that a whopping 70% of individuals would gladly delegate tasks to AI to ease their workloads. [...] To begin with, the MarketsandMarkets research states that the global artificial intelligence market is projected to reach USD 1345.2 billion by 2030, at a CAGR of 36.8% during the forecast period of 2023–2030. Such rapid growth is caused by its synergistic interaction with various other technologies. The convergence of artificial intelligence with other transformative technologies such as the Internet of Things (IoT), robotics, natural language processing (NLP), and computer vision enhances\", \"score\": 0.8559598}, {\"title\": \"Four trends that changed AI in 2023 | MIT Technology Review\", \"url\": \"https://www.technologyreview.com/2023/12/19/1085696/four-trends-that-changed-ai-in-2023/\", \"content\": \"Thanks to ChatGPT, everyone from the US Senate to the G7 was talkingabout AI policy and regulation this year. In early December, European lawmakers wrapped up a busy policy year when they agreed on the AI Act, which will introduce binding rules and standards on how to develop the riskiest AI more responsibly. It will also ban certain “unacceptable” applications of AI, such as police use of facial recognition in public places. [...] The year started with Big Tech going all in on generative AI. The runaway success of OpenAI’s ChatGPT prompted every major tech company to release its own version. This year might go down in history as the year we saw the most AI launches: Meta’s LLaMA 2, Google’s Bard chatbot and Gemini, Baidu’s Ernie Bot, OpenAI’s GPT-4, and a handful of other models, including one from a French open-source challenger, Mistral. [...] This new system can teach a robot a simple household task within 20 minutes  \\nA new open-source system, called Dobb-E, was trained using data collected from real homes. It can help to teach a robot how to open an air fryer, close a door, or straighten a cushion, among other tasks. It could also help the field of robotics overcome one of its biggest challenges: a lack of training data.  (MIT Technology Review)\", \"score\": 0.8319231}, {\"title\": \"2023: A year of groundbreaking advances in AI and computing\", \"url\": \"https://research.google/blog/2023-a-year-of-groundbreaking-advances-in-ai-and-computing/\", \"content\": \"In June, following last year’s release of our text-to-image generation model Imagen, we released Imagen Editor, which provides the ability to use region masks and natural language prompts to interactively edit generative images to provide much more precise control over the model output.\\n\\nLater in the year, we released Imagen 2, which improved outputs via a specialized image aesthetics model based on human preferences for qualities such as good lighting, framing, exposure, and sharpness. [...] We continued optimizing Google’s large embedding models (LEMs), which power many of our core products and recommender systems. Some new techniques include Unified Embedding for battle-tested feature representations in web-scale ML systems and Sequential Attention, which uses attention mechanisms to discover high-quality sparse model architectures during training. [...] In November, in partnership with YouTube, we announced Lyria, our most advanced AI music generation model to date. We released two experiments designed to open a new playground for creativity, DreamTrack and music AI tools, in concert with YouTube’s Principles for partnering with the music industry on AI technology.\", \"score\": 0.8215175}, {\"title\": \"AI News & Artificial Intelligence\", \"url\": \"https://techcrunch.com/category/artificial-intelligence/\", \"content\": \"Contact Us\\n\\n# AI\\n\\nNews coverage on artificial intelligence and machine learning tech, the companies building them, and the ethical issues AI raises today. This encompasses generative AI, including large language models, text-to-image and text-to-video models; speech recognition and generation; and predictive analytics.\\n\\n### \\n\\nTechCrunch Startup Battlefield 200 2023\\n\\n### Next set of VC judges locked in for Startup Battlefield 200 at TechCrunch Disrupt 2025 [...] ### Robomart unveils new delivery robot with $3 flat fee to challenge DoorDash, Uber Eats\\n\\nThe Grok app on a smartphone\\n\\n### Elon Musk says xAI has open sourced Grok 2.5\\n\\nthe logos of Open AI displayed on both computer and smart phone screen\\n\\n### OpenAI warns against SPVs and other ‘unauthorized’ investments\\n\\nThe logo and lettering of global online mail order company Amazon can be seen on the façade of Amazon Germany's headquarters in Parkstadt Schwabing in Munich (Bavaria). [...] ### Google brings improved Gemini features to its new Pixel Buds\\n\\n### Dex is an AI-powered camera device that helps children learn new languages\\n\\nThe Grok X AI app is used on a mobile phone with the Grok logo visible in the background.\\n\\n### Thousands of Grok chats are now searchable on Google\\n\\nImage of a humanoid robot with FieldAI logos.\\n\\n### FieldAI raises $405M to build universal robot brains\\n\\nEdward Aryee and Raj Kadiyala\\n\\n### Y Combinator alum SRE.ai raises $7.2M for DevOps AI agents\", \"score\": 0.75831425}]\n",
      "=================================\u001b[1m Tool Message \u001b[0m=================================\n",
      "Name: arxiv\n",
      "\n",
      "Published: 2022-08-01\n",
      "Title: The Rise of Quantum Internet Computing\n",
      "Authors: Seng W. Loke\n",
      "Summary: This article highlights quantum Internet computing as referring to\n",
      "distributed quantum computing over the quantum Internet, analogous to\n",
      "(classical) Internet computing involving (classical) distributed computing over\n",
      "the (classical) Internet. Relevant to quantum Internet computing would be areas\n",
      "of study such as quantum protocols for distributed nodes using quantum\n",
      "information for computations, qua\n",
      "==================================\u001b[1m Ai Message \u001b[0m==================================\n",
      "\n",
      "### **Recent AI News (2023 Highlights)**  \n",
      "1. **GPT-4 and AI Regulations**: OpenAI released GPT-4 in March 2023, advancing large language model capabilities. This spurred global discussions on AI safety, leading to the EU’s AI Act (banning high-risk applications like public facial recognition) and the U.S. executive order on AI governance.  \n",
      "2. **Generative AI Boom**: Tech giants launched competing models (e.g., Google’s Gemini, Meta’s LLaMA 2), while startups like Mistral AI emerged. Tools like ChatGPT’s \"GPTs\" and AI-driven robotics (e.g., Dobb-E for household tasks) showcased practical applications.  \n",
      "3. **Ethical and Economic Impact**: Surveys indicated 47% of executives believe generative AI boosts productivity, with 70% of workers open to delegating tasks to AI. Concerns about job displacement and AI’s energy consumption also rose.  \n",
      "\n",
      "**Sources**: [IEEE Spectrum](https://spectrum.ieee.org/ai-news-2023), [MIT Technology Review](https://www.technologyreview.com/2023/12/19/1085696/four-trends-that-changed-ai-in-2023/), [Google Research Blog](https://research.google/blog/2023-a-year-of-groundbreaking-advances-in-ai-and-computing/).  \n",
      "\n",
      "---\n",
      "\n",
      "### **Recent Quantum Computing Research Paper**  \n",
      "**Title**: *\"The Rise of Quantum Internet Computing\"* (2022)  \n",
      "**Author**: Seng W. Loke  \n",
      "**Summary**:  \n",
      "- Explores distributed quantum computing over a future \"quantum internet,\" analogous to classical distributed systems.  \n",
      "- Discusses challenges in quantum protocols for nodes, error correction, and secure communication.  \n",
      "- Highlights potential applications in cryptography, optimization, and global quantum resource sharing.  \n",
      "\n",
      "**Source**: [arXiv Preprint](https://arxiv.org/abs/2208.00231) (Note: Published in 2022; check arXiv for newer works if needed.)  \n",
      "\n",
      "Let me know if you need deeper insights into any of these topics!\n"
     ]
    }
   ],
   "source": [
    "messages=graph.invoke({\"messages\":\"What is the recent AI news and please tell me the recent research paper on Quantum Computing\"})\n",
    "for m in messages[\"messages\"]:\n",
    "  m.pretty_print()"
   ]
  },
  {
   "cell_type": "code",
   "execution_count": null,
   "id": "62135712",
   "metadata": {},
   "outputs": [],
   "source": []
  }
 ],
 "metadata": {
  "kernelspec": {
   "display_name": "my_venv",
   "language": "python",
   "name": "my_venv"
  },
  "language_info": {
   "codemirror_mode": {
    "name": "ipython",
    "version": 3
   },
   "file_extension": ".py",
   "mimetype": "text/x-python",
   "name": "python",
   "nbconvert_exporter": "python",
   "pygments_lexer": "ipython3",
   "version": "3.12.1"
  }
 },
 "nbformat": 4,
 "nbformat_minor": 5
}
